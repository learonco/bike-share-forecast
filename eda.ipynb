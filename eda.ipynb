{
 "cells": [
  {
   "cell_type": "code",
   "execution_count": 1,
   "metadata": {},
   "outputs": [],
   "source": [
    "import polars as pl\n",
    "import altair as alt"
   ]
  },
  {
   "cell_type": "code",
   "execution_count": 2,
   "metadata": {},
   "outputs": [],
   "source": [
    "# bike trips for 2024\n",
    "recorridos_2024_path = r\"data/recorridos_realizados_2024.csv\""
   ]
  },
  {
   "cell_type": "code",
   "execution_count": 3,
   "metadata": {},
   "outputs": [],
   "source": [
    "ecobici2024_df = pl.read_csv(recorridos_2024_path, use_pyarrow=True, try_parse_dates=True)"
   ]
  },
  {
   "cell_type": "code",
   "execution_count": 4,
   "metadata": {},
   "outputs": [
    {
     "data": {
      "text/html": [
       "<div><style>\n",
       ".dataframe > thead > tr,\n",
       ".dataframe > tbody > tr {\n",
       "  text-align: right;\n",
       "  white-space: pre-wrap;\n",
       "}\n",
       "</style>\n",
       "<small>shape: (9, 18)</small><table border=\"1\" class=\"dataframe\"><thead><tr><th>statistic</th><th>Id_recorrido</th><th>duracion_recorrido</th><th>fecha_origen_recorrido</th><th>id_estacion_origen</th><th>nombre_estacion_origen</th><th>direccion_estacion_origen</th><th>long_estacion_origen</th><th>lat_estacion_origen</th><th>fecha_destino_recorrido</th><th>id_estacion_destino</th><th>nombre_estacion_destino</th><th>direccion_estacion_destino</th><th>long_estacion_destino</th><th>lat_estacion_destino</th><th>id_usuario</th><th>modelo_bicicleta</th><th>género</th></tr><tr><td>str</td><td>str</td><td>str</td><td>str</td><td>str</td><td>str</td><td>str</td><td>str</td><td>str</td><td>str</td><td>str</td><td>str</td><td>str</td><td>str</td><td>str</td><td>str</td><td>str</td><td>str</td></tr></thead><tbody><tr><td>&quot;count&quot;</td><td>&quot;1964598&quot;</td><td>&quot;1964598&quot;</td><td>&quot;1964598&quot;</td><td>&quot;1964598&quot;</td><td>&quot;1964598&quot;</td><td>&quot;1964598&quot;</td><td>&quot;1964598&quot;</td><td>&quot;1964598&quot;</td><td>&quot;1964598&quot;</td><td>&quot;1964598&quot;</td><td>&quot;1964598&quot;</td><td>&quot;1964598&quot;</td><td>&quot;1964598&quot;</td><td>&quot;1964598&quot;</td><td>&quot;1964598&quot;</td><td>&quot;1964598&quot;</td><td>&quot;1964598&quot;</td></tr><tr><td>&quot;null_count&quot;</td><td>&quot;0&quot;</td><td>&quot;0&quot;</td><td>&quot;0&quot;</td><td>&quot;0&quot;</td><td>&quot;0&quot;</td><td>&quot;0&quot;</td><td>&quot;0&quot;</td><td>&quot;0&quot;</td><td>&quot;0&quot;</td><td>&quot;0&quot;</td><td>&quot;0&quot;</td><td>&quot;0&quot;</td><td>&quot;0&quot;</td><td>&quot;0&quot;</td><td>&quot;0&quot;</td><td>&quot;0&quot;</td><td>&quot;0&quot;</td></tr><tr><td>&quot;mean&quot;</td><td>null</td><td>null</td><td>&quot;2024-04-25 15:27:57.674000&quot;</td><td>null</td><td>null</td><td>null</td><td>null</td><td>null</td><td>&quot;2024-04-25 15:51:45.310000&quot;</td><td>null</td><td>null</td><td>null</td><td>null</td><td>null</td><td>null</td><td>null</td><td>null</td></tr><tr><td>&quot;std&quot;</td><td>null</td><td>null</td><td>null</td><td>null</td><td>null</td><td>null</td><td>null</td><td>null</td><td>null</td><td>null</td><td>null</td><td>null</td><td>null</td><td>null</td><td>null</td><td>null</td><td>null</td></tr><tr><td>&quot;min&quot;</td><td>&quot;20180969BAEcobici&quot;</td><td>&quot;1.000&quot;</td><td>&quot;2024-01-01 00:06:50&quot;</td><td>&quot;101BAEcobici&quot;</td><td>&quot;-CDO BARRACAS-&quot;</td><td>&quot;1019 Riglos&quot;</td><td>&quot;-58,3554654&quot;</td><td>&quot;-34,536691&quot;</td><td>&quot;2024-01-01 00:28:36&quot;</td><td>&quot;101BAEcobici&quot;</td><td>&quot;-- CDO Chacarita -- (Temporal)&quot;</td><td>&quot;1019 Riglos&quot;</td><td>&quot;-58,3554654&quot;</td><td>&quot;-34,536691&quot;</td><td>&quot;1000003BAEcobici&quot;</td><td>&quot;FIT&quot;</td><td>&quot;&quot;</td></tr><tr><td>&quot;25%&quot;</td><td>null</td><td>null</td><td>&quot;2024-02-27 15:04:23&quot;</td><td>null</td><td>null</td><td>null</td><td>null</td><td>null</td><td>&quot;2024-02-27 15:25:59&quot;</td><td>null</td><td>null</td><td>null</td><td>null</td><td>null</td><td>null</td><td>null</td><td>null</td></tr><tr><td>&quot;50%&quot;</td><td>null</td><td>null</td><td>&quot;2024-04-19 12:25:47&quot;</td><td>null</td><td>null</td><td>null</td><td>null</td><td>null</td><td>&quot;2024-04-19 12:45:17&quot;</td><td>null</td><td>null</td><td>null</td><td>null</td><td>null</td><td>null</td><td>null</td><td>null</td></tr><tr><td>&quot;75%&quot;</td><td>null</td><td>null</td><td>&quot;2024-06-22 15:48:09&quot;</td><td>null</td><td>null</td><td>null</td><td>null</td><td>null</td><td>&quot;2024-06-22 16:18:11&quot;</td><td>null</td><td>null</td><td>null</td><td>null</td><td>null</td><td>null</td><td>null</td><td>null</td></tr><tr><td>&quot;max&quot;</td><td>&quot;22823318BAEcobici&quot;</td><td>&quot;999&quot;</td><td>&quot;2024-08-31 23:54:32&quot;</td><td>&quot;9BAEcobici&quot;</td><td>&quot;399 - GARCIA DEL RIO&quot;</td><td>&quot;o´higins 1327&quot;</td><td>&quot;-58,527098&quot;</td><td>&quot;-34,687767&quot;</td><td>&quot;2024-09-03 01:00:43&quot;</td><td>&quot;9BAEcobici&quot;</td><td>&quot;399 - GARCIA DEL RIO&quot;</td><td>&quot;o´higins 1327&quot;</td><td>&quot;-58,527098&quot;</td><td>&quot;-34,687767&quot;</td><td>&quot;999994BAEcobici&quot;</td><td>&quot;ICONIC&quot;</td><td>&quot;OTHER&quot;</td></tr></tbody></table></div>"
      ],
      "text/plain": [
       "shape: (9, 18)\n",
       "┌────────────┬───────────┬───────────┬───────────┬───┬───────────┬───────────┬───────────┬─────────┐\n",
       "│ statistic  ┆ Id_recorr ┆ duracion_ ┆ fecha_ori ┆ … ┆ lat_estac ┆ id_usuari ┆ modelo_bi ┆ género  │\n",
       "│ ---        ┆ ido       ┆ recorrido ┆ gen_recor ┆   ┆ ion_desti ┆ o         ┆ cicleta   ┆ ---     │\n",
       "│ str        ┆ ---       ┆ ---       ┆ rido      ┆   ┆ no        ┆ ---       ┆ ---       ┆ str     │\n",
       "│            ┆ str       ┆ str       ┆ ---       ┆   ┆ ---       ┆ str       ┆ str       ┆         │\n",
       "│            ┆           ┆           ┆ str       ┆   ┆ str       ┆           ┆           ┆         │\n",
       "╞════════════╪═══════════╪═══════════╪═══════════╪═══╪═══════════╪═══════════╪═══════════╪═════════╡\n",
       "│ count      ┆ 1964598   ┆ 1964598   ┆ 1964598   ┆ … ┆ 1964598   ┆ 1964598   ┆ 1964598   ┆ 1964598 │\n",
       "│ null_count ┆ 0         ┆ 0         ┆ 0         ┆ … ┆ 0         ┆ 0         ┆ 0         ┆ 0       │\n",
       "│ mean       ┆ null      ┆ null      ┆ 2024-04-2 ┆ … ┆ null      ┆ null      ┆ null      ┆ null    │\n",
       "│            ┆           ┆           ┆ 5 15:27:5 ┆   ┆           ┆           ┆           ┆         │\n",
       "│            ┆           ┆           ┆ 7.674000  ┆   ┆           ┆           ┆           ┆         │\n",
       "│ std        ┆ null      ┆ null      ┆ null      ┆ … ┆ null      ┆ null      ┆ null      ┆ null    │\n",
       "│ min        ┆ 20180969B ┆ 1.000     ┆ 2024-01-0 ┆ … ┆ -34,53669 ┆ 1000003BA ┆ FIT       ┆         │\n",
       "│            ┆ AEcobici  ┆           ┆ 1         ┆   ┆ 1         ┆ Ecobici   ┆           ┆         │\n",
       "│            ┆           ┆           ┆ 00:06:50  ┆   ┆           ┆           ┆           ┆         │\n",
       "│ 25%        ┆ null      ┆ null      ┆ 2024-02-2 ┆ … ┆ null      ┆ null      ┆ null      ┆ null    │\n",
       "│            ┆           ┆           ┆ 7         ┆   ┆           ┆           ┆           ┆         │\n",
       "│            ┆           ┆           ┆ 15:04:23  ┆   ┆           ┆           ┆           ┆         │\n",
       "│ 50%        ┆ null      ┆ null      ┆ 2024-04-1 ┆ … ┆ null      ┆ null      ┆ null      ┆ null    │\n",
       "│            ┆           ┆           ┆ 9         ┆   ┆           ┆           ┆           ┆         │\n",
       "│            ┆           ┆           ┆ 12:25:47  ┆   ┆           ┆           ┆           ┆         │\n",
       "│ 75%        ┆ null      ┆ null      ┆ 2024-06-2 ┆ … ┆ null      ┆ null      ┆ null      ┆ null    │\n",
       "│            ┆           ┆           ┆ 2         ┆   ┆           ┆           ┆           ┆         │\n",
       "│            ┆           ┆           ┆ 15:48:09  ┆   ┆           ┆           ┆           ┆         │\n",
       "│ max        ┆ 22823318B ┆ 999       ┆ 2024-08-3 ┆ … ┆ -34,68776 ┆ 999994BAE ┆ ICONIC    ┆ OTHER   │\n",
       "│            ┆ AEcobici  ┆           ┆ 1         ┆   ┆ 7         ┆ cobici    ┆           ┆         │\n",
       "│            ┆           ┆           ┆ 23:54:32  ┆   ┆           ┆           ┆           ┆         │\n",
       "└────────────┴───────────┴───────────┴───────────┴───┴───────────┴───────────┴───────────┴─────────┘"
      ]
     },
     "execution_count": 4,
     "metadata": {},
     "output_type": "execute_result"
    }
   ],
   "source": [
    "ecobici2024_df.describe()"
   ]
  },
  {
   "cell_type": "code",
   "execution_count": 5,
   "metadata": {},
   "outputs": [],
   "source": [
    "#ecobici2024_df.dtypes"
   ]
  },
  {
   "cell_type": "code",
   "execution_count": 6,
   "metadata": {},
   "outputs": [],
   "source": [
    "#ecobici2024_df = ecobici2024_df.drop_nulls(subset=['fecha_origen_recorrido', 'fecha_destino_recorrido'])"
   ]
  },
  {
   "cell_type": "code",
   "execution_count": 7,
   "metadata": {},
   "outputs": [
    {
     "data": {
      "text/plain": [
       "0"
      ]
     },
     "execution_count": 7,
     "metadata": {},
     "output_type": "execute_result"
    }
   ],
   "source": [
    "are_empty_dates = ecobici2024_df.filter(pl.col('fecha_origen_recorrido').is_null() | pl.col('fecha_destino_recorrido').is_null()).shape[0]\n",
    "are_empty_dates"
   ]
  },
  {
   "cell_type": "code",
   "execution_count": 8,
   "metadata": {},
   "outputs": [],
   "source": [
    "# make coordinate columns numeric\n",
    "ecobici2024_df = ecobici2024_df.with_columns(\n",
    "    pl.col('long_estacion_origen').str.replace(',','.').cast(pl.Float64).alias('estacion_origen_lon'),\n",
    "    pl.col('lat_estacion_origen').str.replace(',','.').cast(pl.Float64).alias('estacion_origen_lat'),\n",
    "    pl.col('long_estacion_destino').str.replace(',','.').cast(pl.Float64).alias('estacion_destino_lon'),\n",
    "    pl.col('lat_estacion_destino').str.replace(',','.').cast(pl.Float64).alias('estacion_destino_lat')\n",
    ")"
   ]
  },
  {
   "cell_type": "code",
   "execution_count": 9,
   "metadata": {},
   "outputs": [],
   "source": [
    "ecobici2024_df = ecobici2024_df.with_columns(\n",
    "    pl.col('fecha_destino_recorrido').dt.strftime(\"%B\").alias(\"month\"),\n",
    "    pl.col('fecha_destino_recorrido').dt.strftime(\"%A\").alias(\"day\"),\n",
    "    (pl.col('fecha_destino_recorrido') - pl.col('fecha_origen_recorrido')).dt.total_minutes().alias('trip_duration_minutes')\n",
    ").with_columns(\n",
    "    pl.when(pl.col('day').is_in(['Saturday', 'Sunday'])).then(1).otherwise(0).alias('is_weekend')\n",
    ")"
   ]
  },
  {
   "cell_type": "markdown",
   "metadata": {},
   "source": [
    "Check data quality"
   ]
  },
  {
   "cell_type": "markdown",
   "metadata": {},
   "source": [
    "Visualization"
   ]
  },
  {
   "cell_type": "code",
   "execution_count": 11,
   "metadata": {},
   "outputs": [],
   "source": [
    "\n"
   ]
  },
  {
   "cell_type": "code",
   "execution_count": null,
   "metadata": {},
   "outputs": [],
   "source": []
  }
 ],
 "metadata": {
  "kernelspec": {
   "display_name": "bikeshare",
   "language": "python",
   "name": "python3"
  },
  "language_info": {
   "codemirror_mode": {
    "name": "ipython",
    "version": 3
   },
   "file_extension": ".py",
   "mimetype": "text/x-python",
   "name": "python",
   "nbconvert_exporter": "python",
   "pygments_lexer": "ipython3",
   "version": "3.12.6"
  }
 },
 "nbformat": 4,
 "nbformat_minor": 2
}
