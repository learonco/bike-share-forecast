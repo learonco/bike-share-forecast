{
 "cells": [
  {
   "cell_type": "code",
   "execution_count": null,
   "metadata": {},
   "outputs": [],
   "source": [
    "import polars as pl\n",
    "import altair as alt"
   ]
  },
  {
   "cell_type": "code",
   "execution_count": null,
   "metadata": {},
   "outputs": [],
   "source": [
    "# bike trips for 2024\n",
    "recorridos_2024_path = r\"data/recorridos_realizados_2024.csv\""
   ]
  },
  {
   "cell_type": "code",
   "execution_count": null,
   "metadata": {},
   "outputs": [],
   "source": [
    "ecobici2024_df = pl.read_csv(recorridos_2024_path, use_pyarrow=True, try_parse_dates=True)"
   ]
  },
  {
   "cell_type": "code",
   "execution_count": null,
   "metadata": {},
   "outputs": [],
   "source": [
    "ecobici2024_df.describe()"
   ]
  },
  {
   "cell_type": "code",
   "execution_count": null,
   "metadata": {},
   "outputs": [],
   "source": [
    "#ecobici2024_df.dtypes"
   ]
  },
  {
   "cell_type": "code",
   "execution_count": null,
   "metadata": {},
   "outputs": [],
   "source": [
    "are_empty_dates = ecobici2024_df.filter(pl.col('fecha_origen_recorrido').is_null() | pl.col('fecha_destino_recorrido').is_null()).shape[0]\n",
    "are_empty_dates"
   ]
  },
  {
   "cell_type": "code",
   "execution_count": null,
   "metadata": {},
   "outputs": [],
   "source": [
    "ecobici2024_df = ecobici2024_df.with_columns(\n",
    "     pl.col('long_estacion_origen').alias('estacion_origen_lon'),\n",
    "     pl.col('lat_estacion_origen').alias('estacion_origen_lat'),\n",
    "     pl.col('long_estacion_destino').alias('estacion_destino_lon'),\n",
    "     pl.col('lat_estacion_destino').alias('estacion_destino_lat')\n",
    ")\n"
   ]
  },
  {
   "cell_type": "code",
   "execution_count": null,
   "metadata": {},
   "outputs": [],
   "source": [
    "ecobici2024_df = ecobici2024_df.with_columns(\n",
    "    pl.col('fecha_origen_recorrido').dt.strftime(\"%B\").alias(\"month\"),\n",
    "    pl.col('fecha_origen_recorrido').dt.strftime(\"%A\").alias(\"day_name\"),\n",
    "    pl.col('fecha_origen_recorrido').dt.date().alias(\"date\"),\n",
    "    (pl.col('fecha_destino_recorrido') - pl.col('fecha_origen_recorrido')).dt.total_minutes().alias('trip_duration_minutes'),\n",
    "    pl.col('fecha_origen_recorrido').dt.hour().alias('top_of_hour')\n",
    ").with_columns(\n",
    "    pl.when(pl.col('day_name').is_in(['Saturday', 'Sunday'])).then(1).otherwise(0).alias('is_weekend')\n",
    ")"
   ]
  },
  {
   "cell_type": "markdown",
   "metadata": {},
   "source": [
    "Visualization"
   ]
  },
  {
   "cell_type": "code",
   "execution_count": null,
   "metadata": {},
   "outputs": [],
   "source": [
    "ecobici2024_df.limit(100).plot.line(x='fecha_origen_recorrido', y='trip_duration_minutes')\n"
   ]
  },
  {
   "cell_type": "code",
   "execution_count": null,
   "metadata": {},
   "outputs": [],
   "source": [
    "trips_by_day_df = ecobici2024_df.group_by(\"day_name\").len(name='trip_count')\n",
    "trips_by_day_df"
   ]
  },
  {
   "cell_type": "code",
   "execution_count": null,
   "metadata": {},
   "outputs": [],
   "source": [
    "# Trips by day name\n",
    "(\n",
    "    alt.Chart(trips_by_day_df).mark_bar().encode(\n",
    "        x=\"day_name\",\n",
    "        y=\"trip_count\"\n",
    "    ).properties(\n",
    "        title=\"Trips by day in 2024\",\n",
    "        width=500\n",
    "    )\n",
    ").show()"
   ]
  },
  {
   "cell_type": "code",
   "execution_count": null,
   "metadata": {},
   "outputs": [],
   "source": [
    "trips_by_date_df = ecobici2024_df.group_by(\"date\").len(name='trip_count_by_date')\n",
    "len(trips_by_date_df)"
   ]
  },
  {
   "cell_type": "code",
   "execution_count": null,
   "metadata": {},
   "outputs": [],
   "source": [
    "(\n",
    "    alt.Chart(trips_by_date_df).mark_bar().encode(\n",
    "        x=\"date\",\n",
    "        y=\"trip_count_by_date\"\n",
    "    ).properties(\n",
    "        title=\"Trips by day in 2024\",\n",
    "        width=600\n",
    "    )\n",
    ").show()"
   ]
  },
  {
   "cell_type": "code",
   "execution_count": null,
   "metadata": {},
   "outputs": [],
   "source": [
    "trips_by_hour_df = ecobici2024_df.group_by(\"top_of_hour\").len(name='trip_count_by_hour')"
   ]
  },
  {
   "cell_type": "code",
   "execution_count": null,
   "metadata": {},
   "outputs": [],
   "source": [
    "# Trips by day name\n",
    "(\n",
    "    alt.Chart(trips_by_hour_df).mark_bar().encode(\n",
    "        x=\"top_of_hour\",\n",
    "        y=\"trip_count_by_hour\"\n",
    "    ).properties(\n",
    "        title=\"Trips by hour in 2024\",\n",
    "        width=500\n",
    "    )\n",
    ").show()"
   ]
  },
  {
   "cell_type": "code",
   "execution_count": null,
   "metadata": {},
   "outputs": [],
   "source": [
    "trips_by_gender_hour_df = ecobici2024_df.group_by(['top_of_hour',\"género\"]).agg(pl.count(\"top_of_hour\").alias('trips_per_hour'))"
   ]
  },
  {
   "cell_type": "code",
   "execution_count": null,
   "metadata": {},
   "outputs": [],
   "source": [
    "trips_by_gender_hour_df.head()"
   ]
  },
  {
   "cell_type": "code",
   "execution_count": null,
   "metadata": {},
   "outputs": [],
   "source": [
    "# Trips by day name\n",
    "(\n",
    "    alt.Chart(trips_by_gender_hour_df).mark_bar().encode(\n",
    "        x=\"género\",\n",
    "        y=\"trips_per_hour\"\n",
    "    ).properties(\n",
    "        title=\"Trips by hour in 2024\",\n",
    "        width=500\n",
    "    )\n",
    ").show()"
   ]
  },
  {
   "cell_type": "markdown",
   "metadata": {},
   "source": [
    "Calculate attributes: seasson, is_holiday, is_daylight, temperature, rain, wind"
   ]
  }
 ],
 "metadata": {
  "kernelspec": {
   "display_name": "bikeshare",
   "language": "python",
   "name": "python3"
  },
  "language_info": {
   "codemirror_mode": {
    "name": "ipython",
    "version": 3
   },
   "file_extension": ".py",
   "mimetype": "text/x-python",
   "name": "python",
   "nbconvert_exporter": "python",
   "pygments_lexer": "ipython3",
   "version": "3.12.6"
  }
 },
 "nbformat": 4,
 "nbformat_minor": 2
}
